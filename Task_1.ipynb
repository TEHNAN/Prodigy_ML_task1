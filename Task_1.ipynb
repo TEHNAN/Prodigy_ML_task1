{
  "nbformat": 4,
  "nbformat_minor": 0,
  "metadata": {
    "colab": {
      "provenance": []
    },
    "kernelspec": {
      "name": "python3",
      "display_name": "Python 3"
    },
    "language_info": {
      "name": "python"
    }
  },
  "cells": [
    {
      "cell_type": "code",
      "execution_count": 7,
      "metadata": {
        "colab": {
          "base_uri": "https://localhost:8080/"
        },
        "id": "oucxaOvnL1b4",
        "outputId": "abb4a979-caaa-4bba-9e0c-ae975d296595"
      },
      "outputs": [
        {
          "output_type": "stream",
          "name": "stdout",
          "text": [
            "Predictions saved to Excel file successfully.\n"
          ]
        }
      ],
      "source": [
        "#Implement linear regression to predict house prices based on square footage, number of bathrooms, and number of bedrooms:\n",
        "import pandas as pd\n",
        "from sklearn.linear_model import LinearRegression\n",
        "from sklearn.metrics import mean_squared_error, r2_score\n",
        "from sklearn.preprocessing import StandardScaler, OneHotEncoder\n",
        "from sklearn.compose import ColumnTransformer\n",
        "from sklearn.pipeline import Pipeline\n",
        "from sklearn.impute import SimpleImputer\n",
        "\n",
        "# Load your training and testing datasets\n",
        "train_df = pd.read_csv('/content/train.csv')\n",
        "test_df = pd.read_csv('/content/test.csv')\n",
        "\n",
        "# Define the features and target\n",
        "features = ['GrLivArea', 'FullBath', 'BedroomAbvGr']\n",
        "target = 'SalePrice'\n",
        "\n",
        " # Separate features and target variable in training dataset\n",
        "X_train = train_df[features]\n",
        "y_train = train_df[target]\n",
        "\n",
        "# Use only features in the test dataset\n",
        "X_test = test_df[features]\n",
        "\n",
        "# Preprocessing pipeline\n",
        "numerical_transformer = Pipeline(steps=[\n",
        "    ('imputer', SimpleImputer(strategy='median')),\n",
        "    ('scaler', StandardScaler())\n",
        "])\n",
        "\n",
        "preprocessor = ColumnTransformer(\n",
        "    transformers=[\n",
        "        ('num', numerical_transformer, features)\n",
        "    ])\n",
        "\n",
        "# Create a pipeline that preprocesses the data and applies linear regression\n",
        "model_pipeline = Pipeline(steps=[\n",
        "    ('preprocessor', preprocessor),\n",
        "    ('model', LinearRegression())\n",
        "])\n",
        "\n",
        "# Fit the model on the training data\n",
        "model_pipeline.fit(X_train, y_train)\n",
        "\n",
        "# Make predictions on the test data\n",
        "y_pred = model_pipeline.predict(X_test)\n",
        "\n",
        "# Save the predictions to an Excel file\n",
        "output_df = pd.DataFrame({\n",
        "    'Predicted Price': y_pred\n",
        "})\n",
        "\n",
        "# Include the ID in the output dataframe\n",
        "output_df = pd.DataFrame({\n",
        "    'ID': test_df['Id'],\n",
        "    'Predicted Price': y_pred\n",
        "})\n",
        "\n",
        "\n",
        "output_df.to_excel('/content/predictions.xlsx', index=False)\n",
        "print(\"Predictions saved to Excel file successfully.\")\n"
      ]
    }
  ]
}